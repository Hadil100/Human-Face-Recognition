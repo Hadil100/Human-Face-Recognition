{
  "nbformat": 4,
  "nbformat_minor": 0,
  "metadata": {
    "colab": {
      "provenance": []
    },
    "kernelspec": {
      "name": "python3",
      "display_name": "Python 3"
    },
    "language_info": {
      "name": "python"
    }
  },
  "cells": [
    {
      "cell_type": "code",
      "source": [],
      "metadata": {
        "id": "86wrOH97O2od"
      },
      "execution_count": null,
      "outputs": []
    },
    {
      "cell_type": "code",
      "execution_count": null,
      "metadata": {
        "id": "eYP6xHlGOwbd"
      },
      "outputs": [],
      "source": [
        "import cv2\n",
        "import os\n",
        "#Initialize the classifier\n",
        "cascPath=os.path.dirname(cv2.__file__)+\"/data/haarcascade_frontalface_default.xml\"\n",
        "faceCascade = cv2.CascadeClassifier(cascPath)\n",
        "\n",
        "#Apply faceCascade on webcam frames\n",
        "video_capture = cv2.VideoCapture(0)\n",
        "\n",
        "while True:\n",
        "    # Capture frame-by-frame\n",
        "    ret, frames = video_capture.read()\n",
        "\n",
        "    if ret:\n",
        "        gray = cv2.cvtColor(frames, cv2.COLOR_BGR2GRAY)\n",
        "\n",
        "        faces = faceCascade.detectMultiScale(\n",
        "            gray,\n",
        "            scaleFactor=1.1,\n",
        "            minNeighbors=5,\n",
        "            minSize=(30, 30),\n",
        "            flags=cv2.CASCADE_SCALE_IMAGE\n",
        "        )\n",
        "\n",
        "        # Draw a rectangle around the faces\n",
        "        for (x, y, w, h) in faces:\n",
        "            cv2.rectangle(frames, (x, y), (x+w, y+h), (0, 255, 0), 2)\n",
        "\n",
        "        # Display the resulting frame\n",
        "        cv2.imshow('Video', frames)\n",
        "\n",
        "    if cv2.waitKey(1) & 0xFF == ord('q'):\n",
        "        break\n",
        "\n",
        "#Release the capture frames\n",
        "video_capture.release()\n",
        "cv2.destroyAllWindows()\n"
      ]
    }
  ]
}